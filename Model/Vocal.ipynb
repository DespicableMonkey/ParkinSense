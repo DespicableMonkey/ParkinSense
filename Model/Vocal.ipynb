{
 "cells": [
  {
   "cell_type": "code",
   "execution_count": 1,
   "metadata": {},
   "outputs": [],
   "source": [
    "import pandas as pd\n",
    "data_xls = pd.read_excel('/Users/despicablemonkey/Desktop/ParkinSense/Model/EBRData.xlsx', 'Sheet1', dtype=str, index_col=None)\n",
    "data_xls.to_csv('csvfile.csv', encoding='utf-8', index=False)\n"
   ]
  }
 ],
 "metadata": {
  "interpreter": {
   "hash": "477a0f62557403ea46e62fafa26ab57be90e3d890bd8dd0e061951eddd197ff7"
  },
  "kernelspec": {
   "display_name": "Python 3.9.7 ('base')",
   "language": "python",
   "name": "python3"
  },
  "language_info": {
   "codemirror_mode": {
    "name": "ipython",
    "version": 3
   },
   "file_extension": ".py",
   "mimetype": "text/x-python",
   "name": "python",
   "nbconvert_exporter": "python",
   "pygments_lexer": "ipython3",
   "version": "3.9.7"
  },
  "orig_nbformat": 4
 },
 "nbformat": 4,
 "nbformat_minor": 2
}
