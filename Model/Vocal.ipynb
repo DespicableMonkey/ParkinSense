{
 "cells": [
  {
   "cell_type": "code",
   "execution_count": 119,
   "metadata": {},
   "outputs": [
    {
     "name": "stdout",
     "output_type": "stream",
     "text": [
      "952594\n",
      "Accuracy: 0.789 (0.080)\n"
     ]
    }
   ],
   "source": [
    "import pandas as pd\n",
    "import numpy as np\n",
    "from numpy import mean\n",
    "from numpy import std\n",
    "from sklearn.datasets import make_classification\n",
    "from sklearn.model_selection import cross_val_score\n",
    "from sklearn.model_selection import RepeatedStratifiedKFold\n",
    "from sklearn.ensemble import RandomForestClassifier\n",
    "from sklearn.datasets import make_regression\n",
    "from sklearn.model_selection import cross_val_score\n",
    "from sklearn.model_selection import RepeatedKFold\n",
    "from sklearn.model_selection import cross_val_score\n",
    "from sklearn.datasets import load_iris\n",
    "from sklearn.feature_selection import RFE\n",
    "from sklearn.svm import SVC\n",
    "from sklearn.ensemble import AdaBoostClassifier, GradientBoostingClassifier, HistGradientBoostingClassifier\n",
    "from sklearn.model_selection import train_test_split\n",
    "import matplotlib.pyplot as plt\n",
    "from sklearn.model_selection import StratifiedKFold\n",
    "from sklearn.feature_selection import RFECV\n",
    "import xgboost as xgb\n",
    "\n",
    "A = pd.read_csv(\"Data/A.csv\")\n",
    "E = pd.read_csv(\"Data/E.csv\")\n",
    "\n",
    "# print(D.columns.tolist())\n",
    "\n",
    "sd = np.random.randint(1, 1000000)\n",
    "sd = sd\n",
    "print(sd)\n",
    "np.random.seed(sd)\n",
    "\n",
    "y = A.iloc[:,2]\n",
    "y = np.array(y).ravel()\n",
    "X = A.iloc[:,3:]\n",
    "# X = X.drop(['Status'], axis=1)\n",
    "\n",
    "\n",
    "\n",
    "# X_train, X_test, y_train, y_test = train_test_split(    X, y, test_size=0.1, random_state=0)\n",
    "\n",
    "\n",
    "# model.score(X_test, y_test)\n",
    "\n",
    "# model = GradientBoostingClassifier()\n",
    "\n",
    "# min_features_to_select = 1  # Minimum number of features to consider\n",
    "# rfecv = RFECV(\n",
    "#     estimator=model,\n",
    "#     step=20,\n",
    "#     cv=StratifiedKFold(2),\n",
    "#     scoring=\"accuracy\",\n",
    "#     min_features_to_select=min_features_to_select,\n",
    "# )\n",
    "# rfecv.fit(X, y)\n",
    "\n",
    "# print(\"Optimal number of features : %d\" % rfecv.n_features_)\n",
    "\n",
    "# # Plot number of features VS. cross-validation scores\n",
    "# plt.figure()\n",
    "# plt.xlabel(\"Number of features selected\")\n",
    "# plt.ylabel(\"Cross validation score (accuracy)\")\n",
    "# plt.plot(\n",
    "#     range(min_features_to_select, len(rfecv.grid_scores_) + min_features_to_select),\n",
    "#     rfecv.grid_scores_,\n",
    "# )\n",
    "# plt.show()\n",
    "\n",
    "model = xgb.XGBClassifier(objective=\"binary:logistic\", random_state=42)\n",
    "model.fit(X, y)\n",
    "\n",
    "\n",
    "# importance = model.feature_importances_\n",
    "# importance\n",
    "# np.sort(importance)\n",
    "\n",
    "# # # # evaluate the model\n",
    "cv = RepeatedStratifiedKFold(n_splits=10, n_repeats=3, random_state=1)\n",
    "n_scores = cross_val_score(model, X, y, scoring='accuracy', cv=cv, n_jobs=-1, error_score='raise', verbose=0)\n",
    "# # # report performance\n",
    "print('Accuracy: %.3f (%.3f)' % (mean(n_scores), std(n_scores)))\n",
    "\n",
    "\n",
    "\n",
    "\n",
    "\n",
    "\n"
   ]
  },
  {
   "cell_type": "code",
   "execution_count": null,
   "metadata": {},
   "outputs": [],
   "source": []
  },
  {
   "cell_type": "code",
   "execution_count": null,
   "metadata": {},
   "outputs": [],
   "source": []
  },
  {
   "cell_type": "code",
   "execution_count": null,
   "metadata": {},
   "outputs": [],
   "source": []
  },
  {
   "cell_type": "code",
   "execution_count": null,
   "metadata": {},
   "outputs": [],
   "source": []
  },
  {
   "cell_type": "code",
   "execution_count": null,
   "metadata": {},
   "outputs": [],
   "source": []
  },
  {
   "cell_type": "code",
   "execution_count": null,
   "metadata": {},
   "outputs": [],
   "source": []
  },
  {
   "cell_type": "code",
   "execution_count": null,
   "metadata": {},
   "outputs": [],
   "source": []
  }
 ],
 "metadata": {
  "interpreter": {
   "hash": "477a0f62557403ea46e62fafa26ab57be90e3d890bd8dd0e061951eddd197ff7"
  },
  "kernelspec": {
   "display_name": "Python 3.9.7 ('base')",
   "language": "python",
   "name": "python3"
  },
  "language_info": {
   "codemirror_mode": {
    "name": "ipython",
    "version": 3
   },
   "file_extension": ".py",
   "mimetype": "text/x-python",
   "name": "python",
   "nbconvert_exporter": "python",
   "pygments_lexer": "ipython3",
   "version": "3.9.7"
  },
  "orig_nbformat": 4
 },
 "nbformat": 4,
 "nbformat_minor": 2
}
