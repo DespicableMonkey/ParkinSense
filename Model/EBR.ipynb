{
 "cells": [
  {
   "cell_type": "code",
   "execution_count": 48,
   "metadata": {},
   "outputs": [],
   "source": [
    "\n",
    "import tensorflow as tf\n",
    "import numpy as np\n",
    "import matplotlib.pyplot as plt\n",
    "import pandas as pd\n",
    "\n",
    "df = pd.read_csv ('/Users/despicablemonkey/Desktop/ParkinSense/Model/EBRData.csv')"
   ]
  },
  {
   "cell_type": "code",
   "execution_count": 167,
   "metadata": {},
   "outputs": [
    {
     "name": "stdout",
     "output_type": "stream",
     "text": [
      "100299\n",
      "Accuracy: 0.846 (0.121)\n",
      "MAE: -0.967 (0.542)\n"
     ]
    }
   ],
   "source": [
    "# evaluate random forest algorithm for classification\n",
    "from numpy import mean\n",
    "from numpy import std\n",
    "from sklearn.datasets import make_classification\n",
    "from sklearn.model_selection import cross_val_score\n",
    "from sklearn.model_selection import RepeatedStratifiedKFold\n",
    "from sklearn.ensemble import RandomForestClassifier\n",
    "from sklearn.datasets import make_regression\n",
    "from sklearn.model_selection import cross_val_score\n",
    "from sklearn.model_selection import RepeatedKFold\n",
    "\n",
    "sd = np.random.randint(1, 1000000)\n",
    "sd = sd\n",
    "print(sd)\n",
    "np.random.seed(sd)\n",
    "#664264 969712 85.2\n",
    "\n",
    "y = df.iloc[:,1:2]\n",
    "y = np.array(y).ravel()\n",
    "X = df.iloc[:,2:]\n",
    "X = X.drop(['EBRVideo', 'GlassesVideo', 'HY', 'Years'], axis=1)\n",
    "# X = X.drop(['GlassesReading'], axis=1)\n",
    "# X = X.drop(['Gender'], axis=1)\n",
    "# X = X.drop(['Age'], axis=1)\n",
    "# X = X.drop(['EBRReading'], axis=1)\n",
    "# age gender EBR, glasses\n",
    "\n",
    "\n",
    "model = RandomForestClassifier()\n",
    "\n",
    "# evaluate the model\n",
    "cv = RepeatedStratifiedKFold(n_splits=10, n_repeats=3, random_state=1)\n",
    "n_scores = cross_val_score(model, X, y, scoring='accuracy', cv=cv, n_jobs=-1, error_score='raise', verbose=0)\n",
    "# report performance\n",
    "print('Accuracy: %.3f (%.3f)' % (mean(n_scores), std(n_scores)))\n",
    "\n",
    "# model.fit(X, y)\n",
    "\n",
    "# row = [[75, 0, 1.5, 0]]\n",
    "# yhat = model.predict(row)\n",
    "# print('Predicted Class: %d' % yhat[0])\n",
    "\n",
    "sevModel = RandomForestClassifier()\n",
    "y = df.iloc[:,6]\n",
    "y = np.array(y).ravel()\n",
    "X = df.iloc[:,2:]\n",
    "X = X.drop(['EBRVideo', 'GlassesVideo', 'HY', 'Years'], axis=1)\n",
    "\n",
    "cv = RepeatedKFold(n_splits=10, n_repeats=3, random_state=1)\n",
    "n_scores = cross_val_score(sevModel, X, y, scoring='neg_mean_absolute_error', cv=cv, n_jobs=-1, error_score='raise')\n",
    "# report performance\n",
    "print('MAE: %.3f (%.3f)' % (mean(n_scores), std(n_scores)))\n",
    "\n",
    "\n"
   ]
  }
 ],
 "metadata": {
  "interpreter": {
   "hash": "477a0f62557403ea46e62fafa26ab57be90e3d890bd8dd0e061951eddd197ff7"
  },
  "kernelspec": {
   "display_name": "Python 3.9.7 ('base')",
   "language": "python",
   "name": "python3"
  },
  "language_info": {
   "codemirror_mode": {
    "name": "ipython",
    "version": 3
   },
   "file_extension": ".py",
   "mimetype": "text/x-python",
   "name": "python",
   "nbconvert_exporter": "python",
   "pygments_lexer": "ipython3",
   "version": "3.9.7"
  },
  "orig_nbformat": 4
 },
 "nbformat": 4,
 "nbformat_minor": 2
}
